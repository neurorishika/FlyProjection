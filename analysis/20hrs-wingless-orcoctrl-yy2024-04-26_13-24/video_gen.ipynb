{
 "cells": [
  {
   "cell_type": "code",
   "execution_count": 1,
   "metadata": {},
   "outputs": [],
   "source": [
    "import numpy as np\n",
    "import matplotlib.pyplot as plt\n",
    "import pandas as pd\n",
    "import cv2\n",
    "from skg import nsphere_fit\n",
    "import scipy.io as sio\n",
    "import json\n",
    "from tqdm import tqdm\n",
    "import os\n",
    "\n",
    "%matplotlib qt"
   ]
  },
  {
   "cell_type": "code",
   "execution_count": 2,
   "metadata": {},
   "outputs": [
    {
     "name": "stdout",
     "output_type": "stream",
     "text": [
      "20hrs-wingless-orcoctrl-yy_phase_2.avi\n",
      "20hrs-wingless-orcoctrl-yy_phase_1.avi\n"
     ]
    }
   ],
   "source": [
    "# get 5 random frames from the videoes\n",
    "if not os.path.exists('random_frames'):\n",
    "    os.makedirs('random_frames')\n",
    "\n",
    "videos = list(filter(lambda x: x.endswith('.avi'), os.listdir()))\n",
    "n_frames_to_get = 2\n",
    "for video in videos:\n",
    "    print(video)\n",
    "    cap = cv2.VideoCapture(video)\n",
    "    n_frames = int(cap.get(cv2.CAP_PROP_FRAME_COUNT))\n",
    "    if 'phase_1' in video:\n",
    "        n_frames_phase1 = n_frames\n",
    "    elif 'phase_2' in video:\n",
    "        n_frames_phase2 = n_frames\n",
    "    for i in range(n_frames_to_get):\n",
    "        frame_number = np.random.randint(n_frames)\n",
    "        cap.set(cv2.CAP_PROP_POS_FRAMES, frame_number)\n",
    "        ret, frame = cap.read()\n",
    "        # save the frame\n",
    "        cv2.imwrite(f'random_frames/{video}_{frame_number}.png', frame)\n",
    "    cap.release()"
   ]
  },
  {
   "cell_type": "code",
   "execution_count": 3,
   "metadata": {},
   "outputs": [],
   "source": [
    "# make a tracking video\n",
    "import skvideo.io\n",
    "from tqdm import tqdm\n",
    "# load the tracking data\n",
    "# phase 1\n",
    "phase1 = []\n",
    "for i in range(1, 8):\n",
    "    df = pd.read_csv('20hrs-wingless-orcoctrl-yy_phase_1/20hrs-wingless-orcoctrl-yy_phase_1-trackfeat.csv/fly{}.csv'.format(i))\n",
    "    df = df[['pos x', 'pos y','ori', 'major axis len', 'minor axis len']]\n",
    "    phase1.append(df)\n",
    "# phase 2\n",
    "phase2 = []\n",
    "for i in range(1, 8):\n",
    "    df = pd.read_csv('20hrs-wingless-orcoctrl-yy_phase_2/20hrs-wingless-orcoctrl-yy_phase_2-trackfeat.csv/fly{}.csv'.format(i))\n",
    "    df = df[['pos x', 'pos y','ori', 'major axis len', 'minor axis len']]\n",
    "    phase2.append(df)\n",
    "\n",
    "# make sure the number of frames is the same\n",
    "assert np.all([len(df) == len(phase1[0]) for df in phase1])\n",
    "assert np.all([len(df) == len(phase2[0]) for df in phase2])\n",
    "assert n_frames_phase1 == len(phase1[0])\n",
    "assert n_frames_phase2 == len(phase2[0])"
   ]
  },
  {
   "cell_type": "code",
   "execution_count": 4,
   "metadata": {},
   "outputs": [],
   "source": [
    "# define 7 colors in RGB\n",
    "colors = np.array([[0, 0, 1], [0, 1, 0], [1, 0, 0], [1, 0, 1], [0, 1, 1], [1, 1, 0], [1, 1, 1]])\n",
    "colors = np.int32(colors*255)"
   ]
  },
  {
   "cell_type": "code",
   "execution_count": 5,
   "metadata": {},
   "outputs": [
    {
     "name": "stderr",
     "output_type": "stream",
     "text": [
      "100%|██████████| 57600/57600 [48:19<00:00, 19.87it/s]   \n",
      "100%|██████████| 115201/115201 [44:56<00:00, 42.73it/s]   \n"
     ]
    }
   ],
   "source": [
    "# phase 1\n",
    "cap = cv2.VideoCapture('20hrs-wingless-orcoctrl-yy_phase_1.avi')\n",
    "frame_rate = cap.get(cv2.CAP_PROP_FPS)\n",
    "writer = skvideo.io.FFmpegWriter(\"20hrs-wingless-orcoctrl-yy_phase_1_tracking.mp4\", inputdict={'-r': str(frame_rate)})\n",
    "for i in tqdm(range(n_frames_phase1)):\n",
    "    ret, frame = cap.read()\n",
    "    # make a copy of the frame\n",
    "    frame_copy = frame.copy()\n",
    "    for j in range(7):\n",
    "        # get the position and orientation of the fly\n",
    "        # if any of the position is nan, skip the fly\n",
    "        if np.any(np.isnan(phase1[j].iloc[i])):\n",
    "            continue\n",
    "        x = int(phase1[j].iloc[i]['pos x'])\n",
    "        y = int(phase1[j].iloc[i]['pos y'])\n",
    "        ori = -phase1[j].iloc[i]['ori']\n",
    "        major_axis_len = phase1[j].iloc[i]['major axis len']\n",
    "        minor_axis_len = phase1[j].iloc[i]['minor axis len']\n",
    "        # draw the fly\n",
    "        cv2.ellipse(frame_copy, center=(x, y), axes=(int(major_axis_len/2), int(minor_axis_len/2)), angle=ori*180/np.pi, startAngle=0, endAngle=360, color=colors[j].tolist(), thickness=-1)\n",
    "    # combine the frame with the tracking data with transparency\n",
    "    frame = cv2.addWeighted(frame, 0.7, frame_copy, 0.3, 0)\n",
    "    writer.writeFrame(frame)\n",
    "writer.close()\n",
    "cap.release()\n",
    "\n",
    "# phase 2\n",
    "cap = cv2.VideoCapture('20hrs-wingless-orcoctrl-yy_phase_2.avi')\n",
    "frame_rate = cap.get(cv2.CAP_PROP_FPS)\n",
    "writer = skvideo.io.FFmpegWriter(\"20hrs-wingless-orcoctrl-yy_phase_2_tracking.mp4\", inputdict={'-r': str(frame_rate)})\n",
    "for i in tqdm(range(n_frames_phase2)):\n",
    "    ret, frame = cap.read()\n",
    "    # make a copy of the frame\n",
    "    frame_copy = frame.copy()\n",
    "    for j in range(7):\n",
    "        # get the position and orientation of the fly\n",
    "        # if any of the position is nan, skip the fly\n",
    "        if np.any(np.isnan(phase2[j].iloc[i])):\n",
    "            continue\n",
    "        x = int(phase2[j].iloc[i]['pos x'])\n",
    "        y = int(phase2[j].iloc[i]['pos y'])\n",
    "        ori = -phase2[j].iloc[i]['ori']\n",
    "        major_axis_len = phase2[j].iloc[i]['major axis len']\n",
    "        minor_axis_len = phase2[j].iloc[i]['minor axis len']\n",
    "        # draw the fly\n",
    "        cv2.ellipse(frame_copy, center=(x, y), axes=(int(major_axis_len/2), int(minor_axis_len/2)), angle=ori*180/np.pi, startAngle=0, endAngle=360, color=colors[j].tolist(), thickness=-1)\n",
    "    # combine the frame with the tracking data with transparency\n",
    "    frame = cv2.addWeighted(frame, 0.7, frame_copy, 0.3, 0)\n",
    "    writer.writeFrame(frame)\n",
    "writer.close()\n",
    "cap.release()"
   ]
  }
 ],
 "metadata": {
  "kernelspec": {
   "display_name": "Python 3",
   "language": "python",
   "name": "python3"
  },
  "language_info": {
   "codemirror_mode": {
    "name": "ipython",
    "version": 3
   },
   "file_extension": ".py",
   "mimetype": "text/x-python",
   "name": "python",
   "nbconvert_exporter": "python",
   "pygments_lexer": "ipython3",
   "version": "3.10.14"
  }
 },
 "nbformat": 4,
 "nbformat_minor": 2
}
